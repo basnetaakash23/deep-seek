{
  "nbformat": 4,
  "nbformat_minor": 0,
  "metadata": {
  "colab": {
    "provenance": [],
    "gpuType": "T4",
    "authorship_tag": "ABX9TyN7LnPfspuS6UxaiIUoAErK",
    "include_colab_link": true
  },
  "kernelspec": {
    "name": "python3",
    "display_name": "Python 3"
  },
  "language_info": {
    "name": "python"
  },
  "accelerator": "GPU"
},
  "cells": [
    {
      "cell_type": "markdown",
      "metadata": {
        "id": "view-in-github",
        "colab_type": "text"
      },
      "source": [
        "<a href=\"https://colab.research.google.com/github/basnetaakash23/deep-seek/blob/main/bart_large_cnn.ipynb\" target=\"_parent\"><img src=\"https://colab.research.google.com/assets/colab-badge.svg\" alt=\"Open In Colab\"/></a>"
      ]
    },
    {
      "cell_type": "code",
      "execution_count": 1,
      "metadata": {
        "colab": {
          "base_uri": "https://localhost:8080/",
          "height": 372,
          "referenced_widgets": [
            "ba6a86aa0abd429888046d3172dfd316",
            "6be45cf1db05470d8164c8ed4dd1c298",
            "88ba9e86035643f6a2a5bc6877e1dd34",
            "863670887ffa4a6984fb7a57976f8234",
            "2728291fbc4f4f9ba50ea85cb730ba25",
            "c4b48b6476d74b798a654ab9e65c4219",
            "7e08a85a4dec41ba8e509c34e85675ec",
            "d4f9b82776554c08ba363b8369440de0",
            "0530824473c642218de31857a42b358c",
            "c1c07d8424b84b0f96d571b93775a8b1",
            "dc1ded35bbd646fc9637721f0821f043",
            "2377dedd7303463a8d0e8df00fdbad4b",
            "84f5c6509a2c40c18d5a60ed8dc84bc8",
            "f6061afff9364662b1d7ea402a8d8c6c",
            "80dd591c954a4a33a1d2a79575f7016e",
            "bb313663678045458db951ba73f2bd44",
            "16efe0d88eea43efb140a820cf482983",
            "c7e6937619aa4ec68ed2e85db2854bec",
            "5ec482d47bd34ebabfb940047618e251",
            "b16c8feaeb6b498bb013f1905c64beaa",
            "42ae36d3e13543c184db58175361ae0c",
            "34d2133481464042a7d298a7197b157c",
            "88e55f8f55834f61951ff670c0bb5808",
            "58c5ff0fe92f4ec08acf7719402fedcb",
            "441a90d9198a43c2b347a3823be0f6f0",
            "dd51e424fab24ff2a847179c8d53c435",
            "433bc0d2670d4393ac2b1220505b4da0",
            "360e86c50bf64c61be12ebc4b6a5245e",
            "9f420c3b5fc342f0980a43a121010964",
            "1fc6989f2b0f4a79aa1155065edaceb1",
            "33fb016610bb426aa89f171e3583eeb7",
            "292857ee64d14bdfacd16139ece7d769",
            "b8761f8948d040e8b455d2b5297f3022",
            "83a4a98222e840e8bd05b83563e08ecd",
            "d2bc2cbe167040be88a46998c9af46a4",
            "4565eb11552146d3bd7b7df90366bd3c",
            "b4101455c2604544b4a198c657ec3b21",
            "fe78d3870adf40ea81ec7454b69399d2",
            "53ca9b8a7ec34923bc620dca32484116",
            "e10ef0aa9dec482aaf122d2d52ea0ec4",
            "bdb0480aeb6c43b7bde8fd94a3588f6d",
            "a1d279d0cb074aa2b365071a6e10692e",
            "849f8ec87ce6436f9e8b3de751d108cd",
            "68513d15f28e4507af7a5b7f1575b2aa",
            "d3a2dd67324541a397a947ddfbe6937e",
            "4e305cfa17254c72a5d4842264fc26af",
            "543187282d104b45a824bc8700e74d59",
            "05e43b69a6394ec8b419ad9b6d164969",
            "40a8eedc39414b05b606f93cbcc2edc3",
            "d0b9baae0c9d428e862cb1f0f042bc88",
            "8e0ab159f075454086da9bce1f127d22",
            "58aa47c5133c4b7bbcac6e1fdaeeb3ee",
            "5bb3e8197fde468cb245a8ec176040ce",
            "03bce8741e0746c8abddaf2401d7a76e",
            "1da9ea3142f64eb4a9701df2c2bcb59e",
            "cff11cd434d74390b02302f5c4d2a29e",
            "7e39933aa6e7458f8931ad4333def332",
            "6af5a1cd5b5f4df9a762b3fe98a768f9",
            "89cde2274e624434aa51d153dfdfab89",
            "decd09df442f4ded86537cae66f64e2f",
            "a51ddd9074dc4060b7e573065c04af52",
            "fbf002621c1a493cbabe9f0144c04727",
            "ed5f6ee42b314d29907e2dba728b0aab",
            "69b9cde31e384857908373bb2e9e9429",
            "be2eadd580794dc093b5f488f74a6816",
            "223d2cde994144aba3e085a9ae2da30a"
          ]
        },
        "id": "PbEI91BAv1LO",
        "outputId": "5de990e4-f624-46d3-de84-983e16f3688e"
      },
      "outputs": [
        {
          "output_type": "stream",
          "name": "stderr",
          "text": [
            "/usr/local/lib/python3.11/dist-packages/huggingface_hub/utils/_auth.py:94: UserWarning: \n",
            "The secret `HF_TOKEN` does not exist in your Colab secrets.\n",
            "To authenticate with the Hugging Face Hub, create a token in your settings tab (https://huggingface.co/settings/tokens), set it as secret in your Google Colab and restart your session.\n",
            "You will be able to reuse this secret in all of your notebooks.\n",
            "Please note that authentication is recommended but still optional to access public models or datasets.\n",
            "  warnings.warn(\n"
          ]
        },
        {
          "output_type": "display_data",
          "data": {
            "text/plain": [
              "config.json: 0.00B [00:00, ?B/s]"
            ],
            "application/vnd.jupyter.widget-view+json": {
              "version_major": 2,
              "version_minor": 0,
              "model_id": "ba6a86aa0abd429888046d3172dfd316"
            }
          },
          "metadata": {}
        },
        {
          "output_type": "display_data",
          "data": {
            "text/plain": [
              "model.safetensors:   0%|          | 0.00/1.63G [00:00<?, ?B/s]"
            ],
            "application/vnd.jupyter.widget-view+json": {
              "version_major": 2,
              "version_minor": 0,
              "model_id": "2377dedd7303463a8d0e8df00fdbad4b"
            }
          },
          "metadata": {}
        },
        {
          "output_type": "display_data",
          "data": {
            "text/plain": [
              "generation_config.json:   0%|          | 0.00/363 [00:00<?, ?B/s]"
            ],
            "application/vnd.jupyter.widget-view+json": {
              "version_major": 2,
              "version_minor": 0,
              "model_id": "88e55f8f55834f61951ff670c0bb5808"
            }
          },
          "metadata": {}
        },
        {
          "output_type": "display_data",
          "data": {
            "text/plain": [
              "vocab.json: 0.00B [00:00, ?B/s]"
            ],
            "application/vnd.jupyter.widget-view+json": {
              "version_major": 2,
              "version_minor": 0,
              "model_id": "83a4a98222e840e8bd05b83563e08ecd"
            }
          },
          "metadata": {}
        },
        {
          "output_type": "display_data",
          "data": {
            "text/plain": [
              "merges.txt: 0.00B [00:00, ?B/s]"
            ],
            "application/vnd.jupyter.widget-view+json": {
              "version_major": 2,
              "version_minor": 0,
              "model_id": "d3a2dd67324541a397a947ddfbe6937e"
            }
          },
          "metadata": {}
        },
        {
          "output_type": "display_data",
          "data": {
            "text/plain": [
              "tokenizer.json: 0.00B [00:00, ?B/s]"
            ],
            "application/vnd.jupyter.widget-view+json": {
              "version_major": 2,
              "version_minor": 0,
              "model_id": "cff11cd434d74390b02302f5c4d2a29e"
            }
          },
          "metadata": {}
        },
        {
          "output_type": "stream",
          "name": "stderr",
          "text": [
            "Device set to use cuda:0\n"
          ]
        },
        {
          "output_type": "stream",
          "name": "stdout",
          "text": [
            "[{'summary_text': 'Trump says diversity initiatives led to lax aviation standards that contributed to the crash. “I changed the Obama standards from very mediocre at best to extraordinary, you remember that. Only the highest aptitude, they have to be the highest intellect and psychologically superior people,” he says.'}]\n"
          ]
        }
      ],
      "source": [
        "from transformers import pipeline\n",
        "\n",
        "summarizer = pipeline(\"summarization\", model=\"facebook/bart-large-cnn\")\n",
        "\n",
        "ARTICLE = \"\"\"“I absolutely love how peaceful the rain makes everything feel — it's like the world finally takes a breath. But I hate how it brings back all the memories I try so hard to forget.”\"\"\"\n",
        "print(summarizer(ARTICLE, max_length=130, min_length=30, do_sample=False))"
      ]
    }
  ]
}
